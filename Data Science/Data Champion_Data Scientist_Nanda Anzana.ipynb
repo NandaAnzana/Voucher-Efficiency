{
 "cells": [
  {
   "cell_type": "markdown",
   "metadata": {},
   "source": [
    "<center><h1 style=\"font-family:verdana;\"><strong>Voucher dengan Nilai Lebih Tinggi akan Menarik User untuk Bertransaksi Lebih Banyak?</strong></h1></center>\n",
    "<center><h2><strong><font color=\"red\">Nanda Anzana</font></strong></h2></center>\n",
    "<img alt=\"\" src=\"images/blog-banner-01.jpg\" style=\"width: 1000px\"/>"
   ]
  },
  {
   "cell_type": "markdown",
   "metadata": {},
   "source": [
    "<h1><strong>Latar Belakang</strong></h1>\n",
    "\n",
    "<p1>Ketika menjalankan promosi, setiap organisasi harus memastikan ada keseimbangan antara nilai promosi yang dikeluarkan dengan goal yang diharapkan. Membakar sebanyak mungkin uang mungkin akan menarik banyak user, tapi apakah user-user tersebut akan kembali tanpa promosi?\n",
    "Dalam case study ini, saya ditugaskan untuk melakukan analisis dari hasil pilot testing dari dua promosi yang telah dilakukan. Dalam skema pertama, satu user group diberikan voucher senilai 10K dan grup yang lain diberikan voucher 25K. Tujuan dari analisis ini adalah untuk mengetahui jawaban dari pertanyaan ini:\n",
    "</p1>"
   ]
  },
  {
   "cell_type": "markdown",
   "metadata": {},
   "source": [
    "<center><h2><strong><font color=\"red\">Jumlah promosi mana yang akan menarik user untuk bertransaksi lebih banyak?</font></strong></h2></center>\n",
    "\n",
    "\n",
    "\n",
    "<center><h3><strong><font color=\"blue\">Pre-Processing</font></strong></h3></center>\n",
    "\n",
    "\n",
    "\n",
    "<p1>Pertama akan di-import semua package yang diperlukan.</p1>\n",
    "\n"
   ]
  },
  {
   "cell_type": "code",
   "execution_count": 1,
   "metadata": {},
   "outputs": [
    {
     "name": "stderr",
     "output_type": "stream",
     "text": [
      "C:\\Users\\Nanda Anzana\\Anaconda3\\lib\\site-packages\\statsmodels\\compat\\pandas.py:23: FutureWarning: The Panel class is removed from pandas. Accessing it from the top-level namespace will also be removed in the next version\n",
      "  data_klasses = (pandas.Series, pandas.DataFrame, pandas.Panel)\n"
     ]
    }
   ],
   "source": [
    "%matplotlib inline\n",
    "import pandas as pd\n",
    "import random\n",
    "import matplotlib.pyplot as plt\n",
    "import seaborn as sns\n",
    "import numpy as np\n",
    "import scipy.stats as scs\n",
    "import statsmodels.stats.api as sms"
   ]
  },
  {
   "cell_type": "markdown",
   "metadata": {},
   "source": [
    "<p1>Membaca data berdasarkan dataset yang diberikan, dan melihat lima data teratas.</p1>"
   ]
  },
  {
   "cell_type": "code",
   "execution_count": 2,
   "metadata": {
    "scrolled": false
   },
   "outputs": [
    {
     "data": {
      "text/html": [
       "<div>\n",
       "<style scoped>\n",
       "    .dataframe tbody tr th:only-of-type {\n",
       "        vertical-align: middle;\n",
       "    }\n",
       "\n",
       "    .dataframe tbody tr th {\n",
       "        vertical-align: top;\n",
       "    }\n",
       "\n",
       "    .dataframe thead th {\n",
       "        text-align: right;\n",
       "    }\n",
       "</style>\n",
       "<table border=\"1\" class=\"dataframe\">\n",
       "  <thead>\n",
       "    <tr style=\"text-align: right;\">\n",
       "      <th></th>\n",
       "      <th>Unnamed: 0</th>\n",
       "      <th>user_id</th>\n",
       "      <th>merchant_id</th>\n",
       "      <th>coupon_value</th>\n",
       "      <th>three_trx</th>\n",
       "      <th>five_trx</th>\n",
       "    </tr>\n",
       "  </thead>\n",
       "  <tbody>\n",
       "    <tr>\n",
       "      <th>0</th>\n",
       "      <td>0</td>\n",
       "      <td>384212</td>\n",
       "      <td>817754</td>\n",
       "      <td>25000.0</td>\n",
       "      <td>0.0</td>\n",
       "      <td>0.0</td>\n",
       "    </tr>\n",
       "    <tr>\n",
       "      <th>1</th>\n",
       "      <td>1</td>\n",
       "      <td>521382</td>\n",
       "      <td>571603</td>\n",
       "      <td>25000.0</td>\n",
       "      <td>0.0</td>\n",
       "      <td>0.0</td>\n",
       "    </tr>\n",
       "    <tr>\n",
       "      <th>2</th>\n",
       "      <td>2</td>\n",
       "      <td>492364</td>\n",
       "      <td>841900</td>\n",
       "      <td>25000.0</td>\n",
       "      <td>0.0</td>\n",
       "      <td>0.0</td>\n",
       "    </tr>\n",
       "    <tr>\n",
       "      <th>3</th>\n",
       "      <td>3</td>\n",
       "      <td>565771</td>\n",
       "      <td>074426</td>\n",
       "      <td>25000.0</td>\n",
       "      <td>0.0</td>\n",
       "      <td>0.0</td>\n",
       "    </tr>\n",
       "    <tr>\n",
       "      <th>4</th>\n",
       "      <td>4</td>\n",
       "      <td>636203</td>\n",
       "      <td>404793</td>\n",
       "      <td>25000.0</td>\n",
       "      <td>0.0</td>\n",
       "      <td>0.0</td>\n",
       "    </tr>\n",
       "  </tbody>\n",
       "</table>\n",
       "</div>"
      ],
      "text/plain": [
       "  Unnamed: 0 user_id merchant_id  coupon_value  three_trx  five_trx\n",
       "0          0  384212      817754       25000.0        0.0       0.0\n",
       "1          1  521382      571603       25000.0        0.0       0.0\n",
       "2          2  492364      841900       25000.0        0.0       0.0\n",
       "3          3  565771      074426       25000.0        0.0       0.0\n",
       "4          4  636203      404793       25000.0        0.0       0.0"
      ]
     },
     "execution_count": 2,
     "metadata": {},
     "output_type": "execute_result"
    }
   ],
   "source": [
    "data = pd.read_csv(\"preliminary_dataset.csv\",sep=\",\",converters={'Unnamed: 0':str, 'user_id':str, 'merchant_id':str})\n",
    "data.head()"
   ]
  },
  {
   "cell_type": "markdown",
   "metadata": {},
   "source": [
    "<p1>Karena kolom unnamed tidak mengandung informasi apapun, maka kolom tersebut akan dihapus.</p1>"
   ]
  },
  {
   "cell_type": "code",
   "execution_count": 3,
   "metadata": {
    "scrolled": false
   },
   "outputs": [
    {
     "data": {
      "text/html": [
       "<div>\n",
       "<style scoped>\n",
       "    .dataframe tbody tr th:only-of-type {\n",
       "        vertical-align: middle;\n",
       "    }\n",
       "\n",
       "    .dataframe tbody tr th {\n",
       "        vertical-align: top;\n",
       "    }\n",
       "\n",
       "    .dataframe thead th {\n",
       "        text-align: right;\n",
       "    }\n",
       "</style>\n",
       "<table border=\"1\" class=\"dataframe\">\n",
       "  <thead>\n",
       "    <tr style=\"text-align: right;\">\n",
       "      <th></th>\n",
       "      <th>user_id</th>\n",
       "      <th>merchant_id</th>\n",
       "      <th>coupon_value</th>\n",
       "      <th>three_trx</th>\n",
       "      <th>five_trx</th>\n",
       "    </tr>\n",
       "  </thead>\n",
       "  <tbody>\n",
       "    <tr>\n",
       "      <th>0</th>\n",
       "      <td>384212</td>\n",
       "      <td>817754</td>\n",
       "      <td>25000.0</td>\n",
       "      <td>0.0</td>\n",
       "      <td>0.0</td>\n",
       "    </tr>\n",
       "    <tr>\n",
       "      <th>1</th>\n",
       "      <td>521382</td>\n",
       "      <td>571603</td>\n",
       "      <td>25000.0</td>\n",
       "      <td>0.0</td>\n",
       "      <td>0.0</td>\n",
       "    </tr>\n",
       "    <tr>\n",
       "      <th>2</th>\n",
       "      <td>492364</td>\n",
       "      <td>841900</td>\n",
       "      <td>25000.0</td>\n",
       "      <td>0.0</td>\n",
       "      <td>0.0</td>\n",
       "    </tr>\n",
       "    <tr>\n",
       "      <th>3</th>\n",
       "      <td>565771</td>\n",
       "      <td>074426</td>\n",
       "      <td>25000.0</td>\n",
       "      <td>0.0</td>\n",
       "      <td>0.0</td>\n",
       "    </tr>\n",
       "    <tr>\n",
       "      <th>4</th>\n",
       "      <td>636203</td>\n",
       "      <td>404793</td>\n",
       "      <td>25000.0</td>\n",
       "      <td>0.0</td>\n",
       "      <td>0.0</td>\n",
       "    </tr>\n",
       "  </tbody>\n",
       "</table>\n",
       "</div>"
      ],
      "text/plain": [
       "  user_id merchant_id  coupon_value  three_trx  five_trx\n",
       "0  384212      817754       25000.0        0.0       0.0\n",
       "1  521382      571603       25000.0        0.0       0.0\n",
       "2  492364      841900       25000.0        0.0       0.0\n",
       "3  565771      074426       25000.0        0.0       0.0\n",
       "4  636203      404793       25000.0        0.0       0.0"
      ]
     },
     "execution_count": 3,
     "metadata": {},
     "output_type": "execute_result"
    }
   ],
   "source": [
    "data.drop(columns='Unnamed: 0',inplace=True)\n",
    "data.head()"
   ]
  },
  {
   "cell_type": "markdown",
   "metadata": {},
   "source": [
    "<p1>Selanjutnya akan dilihat informasi terkait data yang ada. Dapat dilihat di bawah bahwa terdapat 3 nilai kosong pada data. Sebelum melakukan manipulasi terhadap data. Akan dilihat terlebih dahulu bagaimana bentuk data yang kosong.</p1>"
   ]
  },
  {
   "cell_type": "code",
   "execution_count": 4,
   "metadata": {
    "scrolled": true
   },
   "outputs": [
    {
     "name": "stdout",
     "output_type": "stream",
     "text": [
      "<class 'pandas.core.frame.DataFrame'>\n",
      "RangeIndex: 8176 entries, 0 to 8175\n",
      "Data columns (total 5 columns):\n",
      "user_id         8176 non-null object\n",
      "merchant_id     8176 non-null object\n",
      "coupon_value    8173 non-null float64\n",
      "three_trx       8173 non-null float64\n",
      "five_trx        8173 non-null float64\n",
      "dtypes: float64(3), object(2)\n",
      "memory usage: 319.5+ KB\n"
     ]
    }
   ],
   "source": [
    "data.info()"
   ]
  },
  {
   "cell_type": "code",
   "execution_count": 5,
   "metadata": {},
   "outputs": [
    {
     "data": {
      "text/html": [
       "<div>\n",
       "<style scoped>\n",
       "    .dataframe tbody tr th:only-of-type {\n",
       "        vertical-align: middle;\n",
       "    }\n",
       "\n",
       "    .dataframe tbody tr th {\n",
       "        vertical-align: top;\n",
       "    }\n",
       "\n",
       "    .dataframe thead th {\n",
       "        text-align: right;\n",
       "    }\n",
       "</style>\n",
       "<table border=\"1\" class=\"dataframe\">\n",
       "  <thead>\n",
       "    <tr style=\"text-align: right;\">\n",
       "      <th></th>\n",
       "      <th>user_id</th>\n",
       "      <th>merchant_id</th>\n",
       "      <th>coupon_value</th>\n",
       "      <th>three_trx</th>\n",
       "      <th>five_trx</th>\n",
       "    </tr>\n",
       "  </thead>\n",
       "  <tbody>\n",
       "    <tr>\n",
       "      <th>220</th>\n",
       "      <td></td>\n",
       "      <td></td>\n",
       "      <td>NaN</td>\n",
       "      <td>NaN</td>\n",
       "      <td>NaN</td>\n",
       "    </tr>\n",
       "    <tr>\n",
       "      <th>407</th>\n",
       "      <td></td>\n",
       "      <td></td>\n",
       "      <td>NaN</td>\n",
       "      <td>NaN</td>\n",
       "      <td>NaN</td>\n",
       "    </tr>\n",
       "    <tr>\n",
       "      <th>1016</th>\n",
       "      <td></td>\n",
       "      <td></td>\n",
       "      <td>NaN</td>\n",
       "      <td>NaN</td>\n",
       "      <td>NaN</td>\n",
       "    </tr>\n",
       "  </tbody>\n",
       "</table>\n",
       "</div>"
      ],
      "text/plain": [
       "     user_id merchant_id  coupon_value  three_trx  five_trx\n",
       "220                                NaN        NaN       NaN\n",
       "407                                NaN        NaN       NaN\n",
       "1016                               NaN        NaN       NaN"
      ]
     },
     "execution_count": 5,
     "metadata": {},
     "output_type": "execute_result"
    }
   ],
   "source": [
    "df1 = data[data.isna().any(axis=1)]\n",
    "df1.head()"
   ]
  },
  {
   "cell_type": "markdown",
   "metadata": {},
   "source": [
    "<p1>Ternyata keseluruhan kolom berisi data kosong, sehingga bisa langsung dihilangkan saja.</p1>"
   ]
  },
  {
   "cell_type": "code",
   "execution_count": 6,
   "metadata": {},
   "outputs": [],
   "source": [
    "data.drop([220,407,1016],axis=0,inplace=True)"
   ]
  },
  {
   "cell_type": "markdown",
   "metadata": {},
   "source": [
    "<p1>Akan dilihat apakah banyak user sama dengan banyaknya data.</p1>"
   ]
  },
  {
   "cell_type": "code",
   "execution_count": 7,
   "metadata": {
    "scrolled": true
   },
   "outputs": [
    {
     "data": {
      "text/plain": [
       "8147"
      ]
     },
     "execution_count": 7,
     "metadata": {},
     "output_type": "execute_result"
    }
   ],
   "source": [
    "len(data.user_id.unique())"
   ]
  },
  {
   "cell_type": "markdown",
   "metadata": {},
   "source": [
    "<p1>Ternyata banyaknya user id hanya 8147, lebih sedikit daripada keseluruhan data yang berjumlah 8173. Ada 2 kemungkinan:</p1>\n",
    "\n",
    "<ul><li>Ada data berganda yang memuat user_id, merchant_id, dan coupon_value yang sama.</li>\n",
    "    <li>User_id yang sama membeli di merchant yang berbeda, sehingga user_id dicatatkan lebih dari satu kali.</li></ul>\n",
    "    \n",
    "<p1><strong>Pertama-tama</strong> dilihat terlebih dahulu user mana saja dicatatkan lebih dari 2 kali.</p1>"
   ]
  },
  {
   "cell_type": "code",
   "execution_count": 8,
   "metadata": {
    "scrolled": true
   },
   "outputs": [],
   "source": [
    "user_ganda = []\n",
    "user = list(data.user_id.values)\n",
    "unik = list(data.user_id.unique())\n",
    "for i in unik:\n",
    "    k = user.count(i)\n",
    "    if k>1:\n",
    "        user_ganda.append(i)"
   ]
  },
  {
   "cell_type": "markdown",
   "metadata": {},
   "source": [
    "<p1>Lalu dilihat user mana saja yang memiliki user dan merchant sama, tapi memiliki three_trx dan five_trx berbeda.</p1>"
   ]
  },
  {
   "cell_type": "code",
   "execution_count": 9,
   "metadata": {
    "scrolled": true
   },
   "outputs": [
    {
     "name": "stdout",
     "output_type": "stream",
     "text": [
      "071860\n",
      "403849\n",
      "071860\n",
      "403849\n"
     ]
    }
   ],
   "source": [
    "for i in user_ganda:\n",
    "    df2 = data[data.loc[:,'user_id']==i]\n",
    "    k = list(df2.merchant_id.values)\n",
    "    for a in k:\n",
    "        f = k.count(a)\n",
    "        if f>1:\n",
    "            print(i)\n",
    "            print(a)"
   ]
  },
  {
   "cell_type": "markdown",
   "metadata": {},
   "source": [
    "<p1>Lalu dilihat bagaimana data dengan user id 071860. Berikut adalah datanya.</p1>"
   ]
  },
  {
   "cell_type": "code",
   "execution_count": 10,
   "metadata": {
    "scrolled": true
   },
   "outputs": [
    {
     "data": {
      "text/html": [
       "<div>\n",
       "<style scoped>\n",
       "    .dataframe tbody tr th:only-of-type {\n",
       "        vertical-align: middle;\n",
       "    }\n",
       "\n",
       "    .dataframe tbody tr th {\n",
       "        vertical-align: top;\n",
       "    }\n",
       "\n",
       "    .dataframe thead th {\n",
       "        text-align: right;\n",
       "    }\n",
       "</style>\n",
       "<table border=\"1\" class=\"dataframe\">\n",
       "  <thead>\n",
       "    <tr style=\"text-align: right;\">\n",
       "      <th></th>\n",
       "      <th>user_id</th>\n",
       "      <th>merchant_id</th>\n",
       "      <th>coupon_value</th>\n",
       "      <th>three_trx</th>\n",
       "      <th>five_trx</th>\n",
       "    </tr>\n",
       "  </thead>\n",
       "  <tbody>\n",
       "    <tr>\n",
       "      <th>1611</th>\n",
       "      <td>071860</td>\n",
       "      <td>403849</td>\n",
       "      <td>25000.0</td>\n",
       "      <td>1.0</td>\n",
       "      <td>1.0</td>\n",
       "    </tr>\n",
       "    <tr>\n",
       "      <th>3316</th>\n",
       "      <td>071860</td>\n",
       "      <td>403849</td>\n",
       "      <td>25000.0</td>\n",
       "      <td>0.0</td>\n",
       "      <td>0.0</td>\n",
       "    </tr>\n",
       "  </tbody>\n",
       "</table>\n",
       "</div>"
      ],
      "text/plain": [
       "     user_id merchant_id  coupon_value  three_trx  five_trx\n",
       "1611  071860      403849       25000.0        1.0       1.0\n",
       "3316  071860      403849       25000.0        0.0       0.0"
      ]
     },
     "execution_count": 10,
     "metadata": {},
     "output_type": "execute_result"
    }
   ],
   "source": [
    "data[data.loc[:,'user_id']==\"071860\"]"
   ]
  },
  {
   "cell_type": "markdown",
   "metadata": {},
   "source": [
    "<p1>Dapat dilihat berdasarkan data di atas bahwa data seperti tercatat dua kali dengan keadaan pembelian yang berbeda. Dalam analisis kali ini dipilih satu catatan, yaitu ketika user dengan id<strong> 071860</strong> melakukan 3 dan 5 transaksi. Data dengan index <strong>3316</strong> akan <strong>dihapus</strong> dengan asumsi bahwa data dengan three_trx dan five_trx sama dengan nol adalah sebuah kesalahan input.</p1>"
   ]
  },
  {
   "cell_type": "code",
   "execution_count": 11,
   "metadata": {},
   "outputs": [],
   "source": [
    "data.drop([3316],axis=0,inplace=True)"
   ]
  },
  {
   "cell_type": "markdown",
   "metadata": {},
   "source": [
    "<p1>Dicek kembali banyaknya data.</p1>"
   ]
  },
  {
   "cell_type": "code",
   "execution_count": 12,
   "metadata": {
    "scrolled": true
   },
   "outputs": [
    {
     "name": "stdout",
     "output_type": "stream",
     "text": [
      "<class 'pandas.core.frame.DataFrame'>\n",
      "Int64Index: 8172 entries, 0 to 8175\n",
      "Data columns (total 5 columns):\n",
      "user_id         8172 non-null object\n",
      "merchant_id     8172 non-null object\n",
      "coupon_value    8172 non-null float64\n",
      "three_trx       8172 non-null float64\n",
      "five_trx        8172 non-null float64\n",
      "dtypes: float64(3), object(2)\n",
      "memory usage: 383.1+ KB\n"
     ]
    }
   ],
   "source": [
    "data.info()"
   ]
  },
  {
   "cell_type": "markdown",
   "metadata": {},
   "source": [
    "<p1>Kolom three_trx dan five_trx seharusnya berhubungan. Karena jika user melakukan pembelian 5 kali semenjak diberikan voucher, otomatis juga kolom pembelian 3 kali juga memiliki nilai. Lalu akan dicari semua user yang memiliki 5 transaksi tapi tidak memiliki 3 transaksi.</p1>"
   ]
  },
  {
   "cell_type": "code",
   "execution_count": 13,
   "metadata": {},
   "outputs": [],
   "source": [
    "data.reset_index(inplace=True)"
   ]
  },
  {
   "cell_type": "code",
   "execution_count": 14,
   "metadata": {
    "scrolled": true
   },
   "outputs": [
    {
     "name": "stdout",
     "output_type": "stream",
     "text": [
      "2147\n",
      "3821\n",
      "5549\n",
      "5747\n"
     ]
    }
   ],
   "source": [
    "for i in range (0,len(data)):\n",
    "    a = data.loc[i,'three_trx']\n",
    "    b = data.loc[i,'five_trx']\n",
    "    if a!=b:\n",
    "        if a==0:\n",
    "            print(i)"
   ]
  },
  {
   "cell_type": "code",
   "execution_count": 15,
   "metadata": {
    "scrolled": true
   },
   "outputs": [
    {
     "data": {
      "text/html": [
       "<div>\n",
       "<style scoped>\n",
       "    .dataframe tbody tr th:only-of-type {\n",
       "        vertical-align: middle;\n",
       "    }\n",
       "\n",
       "    .dataframe tbody tr th {\n",
       "        vertical-align: top;\n",
       "    }\n",
       "\n",
       "    .dataframe thead th {\n",
       "        text-align: right;\n",
       "    }\n",
       "</style>\n",
       "<table border=\"1\" class=\"dataframe\">\n",
       "  <thead>\n",
       "    <tr style=\"text-align: right;\">\n",
       "      <th></th>\n",
       "      <th>index</th>\n",
       "      <th>user_id</th>\n",
       "      <th>merchant_id</th>\n",
       "      <th>coupon_value</th>\n",
       "      <th>three_trx</th>\n",
       "      <th>five_trx</th>\n",
       "    </tr>\n",
       "  </thead>\n",
       "  <tbody>\n",
       "    <tr>\n",
       "      <th>2147</th>\n",
       "      <td>2150</td>\n",
       "      <td>273910</td>\n",
       "      <td>324950</td>\n",
       "      <td>25000.0</td>\n",
       "      <td>0.0</td>\n",
       "      <td>1.0</td>\n",
       "    </tr>\n",
       "    <tr>\n",
       "      <th>3821</th>\n",
       "      <td>3825</td>\n",
       "      <td>027843</td>\n",
       "      <td>074426</td>\n",
       "      <td>25000.0</td>\n",
       "      <td>0.0</td>\n",
       "      <td>1.0</td>\n",
       "    </tr>\n",
       "    <tr>\n",
       "      <th>5549</th>\n",
       "      <td>5553</td>\n",
       "      <td>794336</td>\n",
       "      <td>666703</td>\n",
       "      <td>10000.0</td>\n",
       "      <td>0.0</td>\n",
       "      <td>1.0</td>\n",
       "    </tr>\n",
       "    <tr>\n",
       "      <th>5747</th>\n",
       "      <td>5751</td>\n",
       "      <td>739532</td>\n",
       "      <td>404793</td>\n",
       "      <td>10000.0</td>\n",
       "      <td>0.0</td>\n",
       "      <td>1.0</td>\n",
       "    </tr>\n",
       "  </tbody>\n",
       "</table>\n",
       "</div>"
      ],
      "text/plain": [
       "      index user_id merchant_id  coupon_value  three_trx  five_trx\n",
       "2147   2150  273910      324950       25000.0        0.0       1.0\n",
       "3821   3825  027843      074426       25000.0        0.0       1.0\n",
       "5549   5553  794336      666703       10000.0        0.0       1.0\n",
       "5747   5751  739532      404793       10000.0        0.0       1.0"
      ]
     },
     "execution_count": 15,
     "metadata": {},
     "output_type": "execute_result"
    }
   ],
   "source": [
    "data.loc[[2147,3821,5549,5747],:]"
   ]
  },
  {
   "cell_type": "markdown",
   "metadata": {},
   "source": [
    "<p1>Dapat terlihat bahwa terdapat data yang membingungkan. Dimana user mencatatkan 5 transaksi, tapi tidak 3 transaksi. Agar mempunyai landasan yang kuat, akan diasumsikan bahwa data ini hanyalah kesalahan input. Jadi angka 0 pada kolom three_trx akan diganti menjadi satu.</p1>"
   ]
  },
  {
   "cell_type": "code",
   "execution_count": 16,
   "metadata": {
    "scrolled": true
   },
   "outputs": [
    {
     "data": {
      "text/html": [
       "<div>\n",
       "<style scoped>\n",
       "    .dataframe tbody tr th:only-of-type {\n",
       "        vertical-align: middle;\n",
       "    }\n",
       "\n",
       "    .dataframe tbody tr th {\n",
       "        vertical-align: top;\n",
       "    }\n",
       "\n",
       "    .dataframe thead th {\n",
       "        text-align: right;\n",
       "    }\n",
       "</style>\n",
       "<table border=\"1\" class=\"dataframe\">\n",
       "  <thead>\n",
       "    <tr style=\"text-align: right;\">\n",
       "      <th></th>\n",
       "      <th>index</th>\n",
       "      <th>user_id</th>\n",
       "      <th>merchant_id</th>\n",
       "      <th>coupon_value</th>\n",
       "      <th>three_trx</th>\n",
       "      <th>five_trx</th>\n",
       "    </tr>\n",
       "  </thead>\n",
       "  <tbody>\n",
       "    <tr>\n",
       "      <th>2147</th>\n",
       "      <td>2150</td>\n",
       "      <td>273910</td>\n",
       "      <td>324950</td>\n",
       "      <td>25000.0</td>\n",
       "      <td>1.0</td>\n",
       "      <td>1.0</td>\n",
       "    </tr>\n",
       "    <tr>\n",
       "      <th>3821</th>\n",
       "      <td>3825</td>\n",
       "      <td>027843</td>\n",
       "      <td>074426</td>\n",
       "      <td>25000.0</td>\n",
       "      <td>1.0</td>\n",
       "      <td>1.0</td>\n",
       "    </tr>\n",
       "    <tr>\n",
       "      <th>5549</th>\n",
       "      <td>5553</td>\n",
       "      <td>794336</td>\n",
       "      <td>666703</td>\n",
       "      <td>10000.0</td>\n",
       "      <td>1.0</td>\n",
       "      <td>1.0</td>\n",
       "    </tr>\n",
       "    <tr>\n",
       "      <th>5747</th>\n",
       "      <td>5751</td>\n",
       "      <td>739532</td>\n",
       "      <td>404793</td>\n",
       "      <td>10000.0</td>\n",
       "      <td>1.0</td>\n",
       "      <td>1.0</td>\n",
       "    </tr>\n",
       "  </tbody>\n",
       "</table>\n",
       "</div>"
      ],
      "text/plain": [
       "      index user_id merchant_id  coupon_value  three_trx  five_trx\n",
       "2147   2150  273910      324950       25000.0        1.0       1.0\n",
       "3821   3825  027843      074426       25000.0        1.0       1.0\n",
       "5549   5553  794336      666703       10000.0        1.0       1.0\n",
       "5747   5751  739532      404793       10000.0        1.0       1.0"
      ]
     },
     "execution_count": 16,
     "metadata": {},
     "output_type": "execute_result"
    }
   ],
   "source": [
    "index_asumsi = [2147,3821,5549,5747]\n",
    "for i in index_asumsi:\n",
    "    data.loc[i,'three_trx']=1\n",
    "data.loc[[2147,3821,5549,5747],:]"
   ]
  },
  {
   "cell_type": "markdown",
   "metadata": {},
   "source": [
    "<p1>Setelah selesai mengganti semua data yang membingungkan, selanjutnya kolom-kolom yang tidak akan dipakai dalam analisis akan dihilangkan, seperti user id, dan index.</p1>"
   ]
  },
  {
   "cell_type": "code",
   "execution_count": 17,
   "metadata": {},
   "outputs": [],
   "source": [
    "data.drop(columns=[\"user_id\",\"index\"],inplace=True)"
   ]
  },
  {
   "cell_type": "code",
   "execution_count": 18,
   "metadata": {
    "scrolled": false
   },
   "outputs": [
    {
     "data": {
      "text/html": [
       "<div>\n",
       "<style scoped>\n",
       "    .dataframe tbody tr th:only-of-type {\n",
       "        vertical-align: middle;\n",
       "    }\n",
       "\n",
       "    .dataframe tbody tr th {\n",
       "        vertical-align: top;\n",
       "    }\n",
       "\n",
       "    .dataframe thead th {\n",
       "        text-align: right;\n",
       "    }\n",
       "</style>\n",
       "<table border=\"1\" class=\"dataframe\">\n",
       "  <thead>\n",
       "    <tr style=\"text-align: right;\">\n",
       "      <th></th>\n",
       "      <th>merchant_id</th>\n",
       "      <th>coupon_value</th>\n",
       "      <th>three_trx</th>\n",
       "      <th>five_trx</th>\n",
       "    </tr>\n",
       "  </thead>\n",
       "  <tbody>\n",
       "    <tr>\n",
       "      <th>0</th>\n",
       "      <td>817754</td>\n",
       "      <td>25000.0</td>\n",
       "      <td>0.0</td>\n",
       "      <td>0.0</td>\n",
       "    </tr>\n",
       "    <tr>\n",
       "      <th>1</th>\n",
       "      <td>571603</td>\n",
       "      <td>25000.0</td>\n",
       "      <td>0.0</td>\n",
       "      <td>0.0</td>\n",
       "    </tr>\n",
       "    <tr>\n",
       "      <th>2</th>\n",
       "      <td>841900</td>\n",
       "      <td>25000.0</td>\n",
       "      <td>0.0</td>\n",
       "      <td>0.0</td>\n",
       "    </tr>\n",
       "    <tr>\n",
       "      <th>3</th>\n",
       "      <td>074426</td>\n",
       "      <td>25000.0</td>\n",
       "      <td>0.0</td>\n",
       "      <td>0.0</td>\n",
       "    </tr>\n",
       "    <tr>\n",
       "      <th>4</th>\n",
       "      <td>404793</td>\n",
       "      <td>25000.0</td>\n",
       "      <td>0.0</td>\n",
       "      <td>0.0</td>\n",
       "    </tr>\n",
       "  </tbody>\n",
       "</table>\n",
       "</div>"
      ],
      "text/plain": [
       "  merchant_id  coupon_value  three_trx  five_trx\n",
       "0      817754       25000.0        0.0       0.0\n",
       "1      571603       25000.0        0.0       0.0\n",
       "2      841900       25000.0        0.0       0.0\n",
       "3      074426       25000.0        0.0       0.0\n",
       "4      404793       25000.0        0.0       0.0"
      ]
     },
     "execution_count": 18,
     "metadata": {},
     "output_type": "execute_result"
    }
   ],
   "source": [
    "data.head()"
   ]
  },
  {
   "cell_type": "code",
   "execution_count": 19,
   "metadata": {},
   "outputs": [],
   "source": [
    "for i in range (0,len(data)):\n",
    "    if data.loc[i,'coupon_value']==25000:\n",
    "        data.loc[i,'coupon_value']=\"25k\"\n",
    "    else:\n",
    "        data.loc[i,'coupon_value']=\"10k\""
   ]
  },
  {
   "cell_type": "code",
   "execution_count": 20,
   "metadata": {
    "scrolled": false
   },
   "outputs": [
    {
     "data": {
      "text/html": [
       "<div>\n",
       "<style scoped>\n",
       "    .dataframe tbody tr th:only-of-type {\n",
       "        vertical-align: middle;\n",
       "    }\n",
       "\n",
       "    .dataframe tbody tr th {\n",
       "        vertical-align: top;\n",
       "    }\n",
       "\n",
       "    .dataframe thead th {\n",
       "        text-align: right;\n",
       "    }\n",
       "</style>\n",
       "<table border=\"1\" class=\"dataframe\">\n",
       "  <thead>\n",
       "    <tr style=\"text-align: right;\">\n",
       "      <th></th>\n",
       "      <th>merchant_id</th>\n",
       "      <th>coupon_value</th>\n",
       "      <th>three_trx</th>\n",
       "      <th>five_trx</th>\n",
       "    </tr>\n",
       "  </thead>\n",
       "  <tbody>\n",
       "    <tr>\n",
       "      <th>0</th>\n",
       "      <td>817754</td>\n",
       "      <td>25k</td>\n",
       "      <td>0.0</td>\n",
       "      <td>0.0</td>\n",
       "    </tr>\n",
       "    <tr>\n",
       "      <th>1</th>\n",
       "      <td>571603</td>\n",
       "      <td>25k</td>\n",
       "      <td>0.0</td>\n",
       "      <td>0.0</td>\n",
       "    </tr>\n",
       "    <tr>\n",
       "      <th>2</th>\n",
       "      <td>841900</td>\n",
       "      <td>25k</td>\n",
       "      <td>0.0</td>\n",
       "      <td>0.0</td>\n",
       "    </tr>\n",
       "    <tr>\n",
       "      <th>3</th>\n",
       "      <td>074426</td>\n",
       "      <td>25k</td>\n",
       "      <td>0.0</td>\n",
       "      <td>0.0</td>\n",
       "    </tr>\n",
       "    <tr>\n",
       "      <th>4</th>\n",
       "      <td>404793</td>\n",
       "      <td>25k</td>\n",
       "      <td>0.0</td>\n",
       "      <td>0.0</td>\n",
       "    </tr>\n",
       "  </tbody>\n",
       "</table>\n",
       "</div>"
      ],
      "text/plain": [
       "  merchant_id coupon_value  three_trx  five_trx\n",
       "0      817754          25k        0.0       0.0\n",
       "1      571603          25k        0.0       0.0\n",
       "2      841900          25k        0.0       0.0\n",
       "3      074426          25k        0.0       0.0\n",
       "4      404793          25k        0.0       0.0"
      ]
     },
     "execution_count": 20,
     "metadata": {},
     "output_type": "execute_result"
    }
   ],
   "source": [
    "data.head()"
   ]
  },
  {
   "cell_type": "markdown",
   "metadata": {},
   "source": [
    "<center><h3><strong><font color=\"blue\">Analisis</font></strong></h3></center>"
   ]
  },
  {
   "cell_type": "markdown",
   "metadata": {},
   "source": [
    "<p1>Pertama-tama akan dilihat statistik deskriptif dari data</p1>"
   ]
  },
  {
   "cell_type": "code",
   "execution_count": 21,
   "metadata": {
    "scrolled": true
   },
   "outputs": [
    {
     "data": {
      "text/html": [
       "<div>\n",
       "<style scoped>\n",
       "    .dataframe tbody tr th:only-of-type {\n",
       "        vertical-align: middle;\n",
       "    }\n",
       "\n",
       "    .dataframe tbody tr th {\n",
       "        vertical-align: top;\n",
       "    }\n",
       "\n",
       "    .dataframe thead th {\n",
       "        text-align: right;\n",
       "    }\n",
       "</style>\n",
       "<table border=\"1\" class=\"dataframe\">\n",
       "  <thead>\n",
       "    <tr style=\"text-align: right;\">\n",
       "      <th></th>\n",
       "      <th>merchant_id</th>\n",
       "      <th>coupon_value</th>\n",
       "      <th>three_trx</th>\n",
       "      <th>five_trx</th>\n",
       "    </tr>\n",
       "  </thead>\n",
       "  <tbody>\n",
       "    <tr>\n",
       "      <th>count</th>\n",
       "      <td>8172</td>\n",
       "      <td>8172</td>\n",
       "      <td>8172.000000</td>\n",
       "      <td>8172.000000</td>\n",
       "    </tr>\n",
       "    <tr>\n",
       "      <th>unique</th>\n",
       "      <td>50</td>\n",
       "      <td>2</td>\n",
       "      <td>NaN</td>\n",
       "      <td>NaN</td>\n",
       "    </tr>\n",
       "    <tr>\n",
       "      <th>top</th>\n",
       "      <td>404793</td>\n",
       "      <td>25k</td>\n",
       "      <td>NaN</td>\n",
       "      <td>NaN</td>\n",
       "    </tr>\n",
       "    <tr>\n",
       "      <th>freq</th>\n",
       "      <td>1191</td>\n",
       "      <td>4194</td>\n",
       "      <td>NaN</td>\n",
       "      <td>NaN</td>\n",
       "    </tr>\n",
       "    <tr>\n",
       "      <th>mean</th>\n",
       "      <td>NaN</td>\n",
       "      <td>NaN</td>\n",
       "      <td>0.032917</td>\n",
       "      <td>0.005262</td>\n",
       "    </tr>\n",
       "    <tr>\n",
       "      <th>std</th>\n",
       "      <td>NaN</td>\n",
       "      <td>NaN</td>\n",
       "      <td>0.178431</td>\n",
       "      <td>0.072352</td>\n",
       "    </tr>\n",
       "    <tr>\n",
       "      <th>min</th>\n",
       "      <td>NaN</td>\n",
       "      <td>NaN</td>\n",
       "      <td>0.000000</td>\n",
       "      <td>0.000000</td>\n",
       "    </tr>\n",
       "    <tr>\n",
       "      <th>25%</th>\n",
       "      <td>NaN</td>\n",
       "      <td>NaN</td>\n",
       "      <td>0.000000</td>\n",
       "      <td>0.000000</td>\n",
       "    </tr>\n",
       "    <tr>\n",
       "      <th>50%</th>\n",
       "      <td>NaN</td>\n",
       "      <td>NaN</td>\n",
       "      <td>0.000000</td>\n",
       "      <td>0.000000</td>\n",
       "    </tr>\n",
       "    <tr>\n",
       "      <th>75%</th>\n",
       "      <td>NaN</td>\n",
       "      <td>NaN</td>\n",
       "      <td>0.000000</td>\n",
       "      <td>0.000000</td>\n",
       "    </tr>\n",
       "    <tr>\n",
       "      <th>max</th>\n",
       "      <td>NaN</td>\n",
       "      <td>NaN</td>\n",
       "      <td>1.000000</td>\n",
       "      <td>1.000000</td>\n",
       "    </tr>\n",
       "  </tbody>\n",
       "</table>\n",
       "</div>"
      ],
      "text/plain": [
       "       merchant_id coupon_value    three_trx     five_trx\n",
       "count         8172         8172  8172.000000  8172.000000\n",
       "unique          50            2          NaN          NaN\n",
       "top         404793          25k          NaN          NaN\n",
       "freq          1191         4194          NaN          NaN\n",
       "mean           NaN          NaN     0.032917     0.005262\n",
       "std            NaN          NaN     0.178431     0.072352\n",
       "min            NaN          NaN     0.000000     0.000000\n",
       "25%            NaN          NaN     0.000000     0.000000\n",
       "50%            NaN          NaN     0.000000     0.000000\n",
       "75%            NaN          NaN     0.000000     0.000000\n",
       "max            NaN          NaN     1.000000     1.000000"
      ]
     },
     "execution_count": 21,
     "metadata": {},
     "output_type": "execute_result"
    }
   ],
   "source": [
    "data.describe(include='all')"
   ]
  },
  {
   "cell_type": "markdown",
   "metadata": {},
   "source": [
    "<p1>Lalu diberikan visualisasi hubungan merchant id dan banyaknya user dengan 3 lalu 5 transaksi.</p1>"
   ]
  },
  {
   "cell_type": "code",
   "execution_count": 22,
   "metadata": {
    "scrolled": true
   },
   "outputs": [
    {
     "name": "stderr",
     "output_type": "stream",
     "text": [
      "C:\\Users\\Nanda Anzana\\Anaconda3\\lib\\site-packages\\ipykernel_launcher.py:9: FutureWarning: Sorting because non-concatenation axis is not aligned. A future version\n",
      "of pandas will change to not sort by default.\n",
      "\n",
      "To accept the future behavior, pass 'sort=False'.\n",
      "\n",
      "To retain the current behavior and silence the warning, pass 'sort=True'.\n",
      "\n",
      "  if __name__ == '__main__':\n"
     ]
    },
    {
     "data": {
      "text/html": [
       "<div>\n",
       "<style scoped>\n",
       "    .dataframe tbody tr th:only-of-type {\n",
       "        vertical-align: middle;\n",
       "    }\n",
       "\n",
       "    .dataframe tbody tr th {\n",
       "        vertical-align: top;\n",
       "    }\n",
       "\n",
       "    .dataframe thead th {\n",
       "        text-align: right;\n",
       "    }\n",
       "</style>\n",
       "<table border=\"1\" class=\"dataframe\">\n",
       "  <thead>\n",
       "    <tr style=\"text-align: right;\">\n",
       "      <th></th>\n",
       "      <th>three_trx_10k</th>\n",
       "      <th>five_trx_10k</th>\n",
       "      <th>three_trx_25k</th>\n",
       "      <th>five_trx_25k</th>\n",
       "    </tr>\n",
       "  </thead>\n",
       "  <tbody>\n",
       "    <tr>\n",
       "      <th>002940</th>\n",
       "      <td>4.0</td>\n",
       "      <td>0.0</td>\n",
       "      <td>9.0</td>\n",
       "      <td>1.0</td>\n",
       "    </tr>\n",
       "    <tr>\n",
       "      <th>016153</th>\n",
       "      <td>3.0</td>\n",
       "      <td>0.0</td>\n",
       "      <td>3.0</td>\n",
       "      <td>1.0</td>\n",
       "    </tr>\n",
       "    <tr>\n",
       "      <th>074426</th>\n",
       "      <td>2.0</td>\n",
       "      <td>1.0</td>\n",
       "      <td>12.0</td>\n",
       "      <td>1.0</td>\n",
       "    </tr>\n",
       "    <tr>\n",
       "      <th>105870</th>\n",
       "      <td>0.0</td>\n",
       "      <td>0.0</td>\n",
       "      <td>1.0</td>\n",
       "      <td>0.0</td>\n",
       "    </tr>\n",
       "    <tr>\n",
       "      <th>124542</th>\n",
       "      <td>0.0</td>\n",
       "      <td>0.0</td>\n",
       "      <td>0.0</td>\n",
       "      <td>0.0</td>\n",
       "    </tr>\n",
       "  </tbody>\n",
       "</table>\n",
       "</div>"
      ],
      "text/plain": [
       "        three_trx_10k  five_trx_10k  three_trx_25k  five_trx_25k\n",
       "002940            4.0           0.0            9.0           1.0\n",
       "016153            3.0           0.0            3.0           1.0\n",
       "074426            2.0           1.0           12.0           1.0\n",
       "105870            0.0           0.0            1.0           0.0\n",
       "124542            0.0           0.0            0.0           0.0"
      ]
     },
     "execution_count": 22,
     "metadata": {},
     "output_type": "execute_result"
    }
   ],
   "source": [
    "data_visual = data[data.loc[:,'coupon_value']==\"10k\"]\n",
    "data_visual = data_visual.groupby(\"merchant_id\").agg({'three_trx':'sum','five_trx':'sum'})\n",
    "data_visual.columns = ['three_trx_10k', 'five_trx_10k']\n",
    "\n",
    "data_visual2 = data[data.loc[:,'coupon_value']==\"25k\"]\n",
    "data_visual2 = data_visual2.groupby(\"merchant_id\").agg({'three_trx':'sum','five_trx':'sum'})\n",
    "data_visual2.columns = ['three_trx_25k', 'five_trx_25k']\n",
    "\n",
    "result =  pd.concat([data_visual, data_visual2], axis=1)\n",
    "result.replace(np.nan,0, inplace=True)\n",
    "result.head()"
   ]
  },
  {
   "cell_type": "code",
   "execution_count": 23,
   "metadata": {
    "scrolled": false
   },
   "outputs": [
    {
     "data": {
      "text/plain": [
       "Text(0, 0.5, 'Frekuensi')"
      ]
     },
     "execution_count": 23,
     "metadata": {},
     "output_type": "execute_result"
    },
    {
     "data": {
      "image/png": "[encoded data removed]",
      "text/plain": [
       "<Figure size 1296x432 with 1 Axes>"
      ]
     },
     "metadata": {
      "needs_background": "light"
     },
     "output_type": "display_data"
    }
   ],
   "source": [
    "fig, ax = plt.subplots(figsize=(18,6))\n",
    "x10k = result.index\n",
    "y10k = result.three_trx_10k.values\n",
    "ax.bar(x10k, y10k, alpha=0.5,color='red',label='Voucher 10k')\n",
    "x25k = result.index\n",
    "y25k = result.three_trx_25k.values\n",
    "ax.bar(x25k, y25k, alpha=0.5,color='blue',label='Voucher 25k')\n",
    "plt.legend()\n",
    "plt.title(\"Perbandingan 3 Transaksi Setelah Coupon\\n\")\n",
    "plt.xticks(x10k,rotation=90)\n",
    "plt.xlabel('\\nMerchant Id')\n",
    "plt.ylabel('Frekuensi')"
   ]
  },
  {
   "cell_type": "markdown",
   "metadata": {},
   "source": [
    "<p1>Bisa dilihat bahwa terdapat banyak grafik batang dengan perpanjangan berwarna biru. Berarti terdapat <strong>banyak merchant yang mempunyai kenaikan penjualan sebanyak 3 transaksi setelah pembeli diberikan voucher sebesar 25k</strong>. Lalu dilihat bagaimana dengan 5 transaksi.</p1>"
   ]
  },
  {
   "cell_type": "code",
   "execution_count": 24,
   "metadata": {},
   "outputs": [
    {
     "data": {
      "text/plain": [
       "Text(0, 0.5, 'Frekuensi')"
      ]
     },
     "execution_count": 24,
     "metadata": {},
     "output_type": "execute_result"
    },
    {
     "data": {
      "image/png": "[encoded data removed]",
      "text/plain": [
       "<Figure size 1296x432 with 1 Axes>"
      ]
     },
     "metadata": {
      "needs_background": "light"
     },
     "output_type": "display_data"
    }
   ],
   "source": [
    "fig, ax = plt.subplots(figsize=(18,6))\n",
    "x10k = result.index\n",
    "y10k = result.five_trx_10k.values\n",
    "ax.bar(x10k, y10k, alpha=0.5,color='red',label='Voucher 10k')\n",
    "x25k = result.index\n",
    "y25k = result.five_trx_25k.values\n",
    "ax.bar(x25k, y25k, alpha=0.5,color='blue',label='Voucher 25k')\n",
    "plt.legend()\n",
    "plt.title(\"Perbandingan 5 Transaksi Setelah Coupon\\n\")\n",
    "plt.xticks(x10k,rotation=90)\n",
    "plt.xlabel('\\nMerchant Id')\n",
    "plt.ylabel('Frekuensi')"
   ]
  },
  {
   "cell_type": "markdown",
   "metadata": {},
   "source": [
    "<p1>Bisa dilihat bahwa terdapat banyak grafik batang dengan perpanjangan berwarna biru. Berarti terdapat <strong>banyak merchant yang mempunyai kenaikan penjualan sebanyak 5 transaksi setelah pembeli diberikan voucher sebesar 25k</strong>.</p1>"
   ]
  },
  {
   "cell_type": "markdown",
   "metadata": {},
   "source": [
    "<p1>Lalu dibuat sebuah data baru yang mengandung informasi seberapa banyak voucher yang diberikan, banyaknya transaksi 3 dan 5 di setiap besaran kupon, dan rata-rata transaksinya. Dalam analisis untuk data ini, dilakukan dengan menggunakan <strong>A/B Testing</strong> dengan <strong>voucher sebesar 10k sebagai kontrol</strong> dan <strong>voucher 25k sebagai test</strong>. Lalu dilakukan analisa mengenai dampak terhadap perusahaan.</p1>"
   ]
  },
  {
   "cell_type": "code",
   "execution_count": 25,
   "metadata": {
    "scrolled": true
   },
   "outputs": [
    {
     "data": {
      "text/html": [
       "<div>\n",
       "<style scoped>\n",
       "    .dataframe tbody tr th:only-of-type {\n",
       "        vertical-align: middle;\n",
       "    }\n",
       "\n",
       "    .dataframe tbody tr th {\n",
       "        vertical-align: top;\n",
       "    }\n",
       "\n",
       "    .dataframe thead th {\n",
       "        text-align: right;\n",
       "    }\n",
       "</style>\n",
       "<table border=\"1\" class=\"dataframe\">\n",
       "  <thead>\n",
       "    <tr style=\"text-align: right;\">\n",
       "      <th></th>\n",
       "      <th>three_trx</th>\n",
       "      <th>total</th>\n",
       "      <th>rate</th>\n",
       "    </tr>\n",
       "    <tr>\n",
       "      <th>coupon_value</th>\n",
       "      <th></th>\n",
       "      <th></th>\n",
       "      <th></th>\n",
       "    </tr>\n",
       "  </thead>\n",
       "  <tbody>\n",
       "    <tr>\n",
       "      <th>10k</th>\n",
       "      <td>121.0</td>\n",
       "      <td>3978.0</td>\n",
       "      <td>0.030417</td>\n",
       "    </tr>\n",
       "    <tr>\n",
       "      <th>25k</th>\n",
       "      <td>148.0</td>\n",
       "      <td>4194.0</td>\n",
       "      <td>0.035289</td>\n",
       "    </tr>\n",
       "  </tbody>\n",
       "</table>\n",
       "</div>"
      ],
      "text/plain": [
       "              three_trx   total      rate\n",
       "coupon_value                             \n",
       "10k               121.0  3978.0  0.030417\n",
       "25k               148.0  4194.0  0.035289"
      ]
     },
     "execution_count": 25,
     "metadata": {},
     "output_type": "execute_result"
    }
   ],
   "source": [
    "test_summary = data.groupby(\"coupon_value\").agg({'three_trx':'sum'})\n",
    "test_summary['total'] = data.pivot_table(values='three_trx', index='coupon_value', aggfunc=lambda x: len(x))\n",
    "test_summary['rate'] = data.pivot_table(values='three_trx', index='coupon_value')\n",
    "\n",
    "test_summary #berisi data 3 transaksi"
   ]
  },
  {
   "cell_type": "code",
   "execution_count": 26,
   "metadata": {
    "scrolled": false
   },
   "outputs": [
    {
     "data": {
      "text/html": [
       "<div>\n",
       "<style scoped>\n",
       "    .dataframe tbody tr th:only-of-type {\n",
       "        vertical-align: middle;\n",
       "    }\n",
       "\n",
       "    .dataframe tbody tr th {\n",
       "        vertical-align: top;\n",
       "    }\n",
       "\n",
       "    .dataframe thead th {\n",
       "        text-align: right;\n",
       "    }\n",
       "</style>\n",
       "<table border=\"1\" class=\"dataframe\">\n",
       "  <thead>\n",
       "    <tr style=\"text-align: right;\">\n",
       "      <th></th>\n",
       "      <th>five_trx</th>\n",
       "      <th>total</th>\n",
       "      <th>rate</th>\n",
       "    </tr>\n",
       "    <tr>\n",
       "      <th>coupon_value</th>\n",
       "      <th></th>\n",
       "      <th></th>\n",
       "      <th></th>\n",
       "    </tr>\n",
       "  </thead>\n",
       "  <tbody>\n",
       "    <tr>\n",
       "      <th>10k</th>\n",
       "      <td>18.0</td>\n",
       "      <td>3978.0</td>\n",
       "      <td>0.004525</td>\n",
       "    </tr>\n",
       "    <tr>\n",
       "      <th>25k</th>\n",
       "      <td>25.0</td>\n",
       "      <td>4194.0</td>\n",
       "      <td>0.005961</td>\n",
       "    </tr>\n",
       "  </tbody>\n",
       "</table>\n",
       "</div>"
      ],
      "text/plain": [
       "              five_trx   total      rate\n",
       "coupon_value                            \n",
       "10k               18.0  3978.0  0.004525\n",
       "25k               25.0  4194.0  0.005961"
      ]
     },
     "execution_count": 26,
     "metadata": {},
     "output_type": "execute_result"
    }
   ],
   "source": [
    "test_summary2 = data.groupby(\"coupon_value\").agg({'five_trx':'sum'})\n",
    "test_summary2['total'] = data.pivot_table(values='five_trx', index='coupon_value', aggfunc=lambda x: len(x))\n",
    "test_summary2['rate'] = data.pivot_table(values='five_trx', index='coupon_value')\n",
    "\n",
    "test_summary2 #berisi data 5 transaksi"
   ]
  },
  {
   "cell_type": "markdown",
   "metadata": {},
   "source": [
    "<p1>Dapat terlihat bahwa <strong>terdapat kenaikan</strong> rata-rata pembelian ketika diberikan voucher 25k. Baik dalam 3 transaksi maupun 5 transaksi. Tapi informasi ini masih belum cukup dalam menentukan apakah voucher 25k lebih baik dalam kegiatan promosi atau tidak.</p1>"
   ]
  },
  {
   "cell_type": "code",
   "execution_count": 27,
   "metadata": {},
   "outputs": [
    {
     "data": {
      "text/plain": [
       "Text(0, 0.5, 'Probabilitas')"
      ]
     },
     "execution_count": 27,
     "metadata": {},
     "output_type": "execute_result"
    },
    {
     "data": {
      "image/png": "[encoded data removed]",
      "text/plain": [
       "<Figure size 1296x432 with 1 Axes>"
      ]
     },
     "metadata": {
      "needs_background": "light"
     },
     "output_type": "display_data"
    }
   ],
   "source": [
    "fig, ax = plt.subplots(figsize=(18,6))\n",
    "x10k = np.linspace(test_summary.loc['10k','three_trx']-49, test_summary.loc['10k','three_trx']+50, 100)\n",
    "y10k = scs.binom(test_summary.loc['10k','total'], test_summary.loc['10k','rate']).pmf(x10k)\n",
    "ax.bar(x10k, y10k, alpha=0.5,color='red',label='Voucher 10k')\n",
    "x25k = np.linspace(test_summary.loc['25k','three_trx']-49, test_summary.loc['25k','three_trx']+50, 100)\n",
    "y25k = scs.binom(test_summary.loc['25k','total'], test_summary.loc['25k','rate']).pmf(x25k)\n",
    "ax.bar(x25k, y25k, alpha=0.5,color='blue',label='Voucher 25k')\n",
    "plt.legend()\n",
    "plt.title(\"Perbandingan Distribusi Voucher\\n\")\n",
    "plt.xlabel('\\n3 Transaksi')\n",
    "plt.ylabel('Probabilitas')"
   ]
  },
  {
   "cell_type": "markdown",
   "metadata": {},
   "source": [
    "<p1>Dapat dilihat dari grafik di atas bahwa pembeli yang diberi <strong>voucher 25k</strong> akan cenderung membuat <strong>pembeli yang melakukan transaksi berulang sebanyak 3, meningkat</strong>. Tapi memiliki puncak probabilitas yang lebih kecil.</p1>"
   ]
  },
  {
   "cell_type": "code",
   "execution_count": 28,
   "metadata": {},
   "outputs": [],
   "source": [
    "tiga_transaksi_10k_dibeli = test_summary.loc['10k','three_trx']\n",
    "tiga_transaksi_10k_tot = test_summary.loc['10k','total']\n",
    "tiga_transaksi_10k_rate = test_summary.loc['10k','rate']\n",
    "p_10k = tiga_transaksi_10k_rate\n",
    "\n",
    "tiga_transaksi_25k_dibeli = test_summary.loc['25k','three_trx']\n",
    "tiga_transaksi_25k_tot = test_summary.loc['25k','total']\n",
    "tiga_transaksi_25k_rate = test_summary.loc['25k','rate']\n",
    "p_25k = tiga_transaksi_25k_rate"
   ]
  },
  {
   "cell_type": "code",
   "execution_count": 29,
   "metadata": {},
   "outputs": [
    {
     "data": {
      "text/plain": [
       "Text(0, 0.5, 'PDF')"
      ]
     },
     "execution_count": 29,
     "metadata": {},
     "output_type": "execute_result"
    },
    {
     "data": {
      "image/png": "[encoded data removed]",
      "text/plain": [
       "<Figure size 1296x432 with 1 Axes>"
      ]
     },
     "metadata": {
      "needs_background": "light"
     },
     "output_type": "display_data"
    }
   ],
   "source": [
    "fig, ax = plt.subplots(figsize=(18,6))\n",
    "SE_10k = np.sqrt(p_10k*(1-p_10k))/np.sqrt(tiga_transaksi_10k_tot)\n",
    "SE_25k = np.sqrt(p_25k*(1-p_25k))/np.sqrt(tiga_transaksi_25k_tot)\n",
    "\n",
    "x = np.linspace(.01, .05, 1000)\n",
    "yA = scs.norm(p_10k, SE_10k).pdf(x)\n",
    "ax.plot(x, yA, color='red',label='Voucher 10k')\n",
    "ax.axvline(x=p_10k, c='red', alpha=0.5, linestyle='--')\n",
    "yB = scs.norm(p_25k, SE_25k).pdf(x)\n",
    "ax.plot(x, yB, color='blue',label='Voucher 25k')\n",
    "ax.axvline(x=p_25k, c='blue', alpha=0.5, linestyle='--')\n",
    "\n",
    "plt.legend()\n",
    "plt.xlabel('Rate Terjadi 3 Transaksi')\n",
    "plt.ylabel('PDF')"
   ]
  },
  {
   "cell_type": "markdown",
   "metadata": {},
   "source": [
    "<p1>Dapat terlihat bahwa mean dari rate terjadinya 3 transaksi pembeli <strong>saat diberikan voucher 25k menjadi lebih besar</strong>. Dengan perbedaan mean voucher 10k dan 25k sebanyak kira-kira <strong>0.005</strong>."
   ]
  },
  {
   "cell_type": "code",
   "execution_count": 30,
   "metadata": {},
   "outputs": [],
   "source": [
    "test_10k = data[data.coupon_value==\"10k\"]\n",
    "test_25k = data[data.coupon_value==\"25k\"]"
   ]
  },
  {
   "cell_type": "code",
   "execution_count": 31,
   "metadata": {},
   "outputs": [],
   "source": [
    "test_summary = data.groupby(\"coupon_value\").agg({'three_trx':'mean'})\n",
    "\n",
    "test_summary = test_summary.T\n",
    "test_stats = pd.DataFrame(columns = ['pct_lft','conf_int_lb','conf_int_rb','p-value'])    \n",
    "\n",
    "test_summary = pd.concat([test_summary,test_stats],axis=1,ignore_index=False,sort=False)\n",
    "\n",
    "test_summary['pct_lft'] = (test_summary['25k']/test_summary['10k'])-1\n",
    "\n",
    "for i in test_summary.index:\n",
    "\n",
    "    cm = sms.CompareMeans(sms.DescrStatsW(test_10k[i]), sms.DescrStatsW(test_25k[i]))\n",
    "\n",
    "    lb,rb = cm.tconfint_diff(usevar='unequal',alternative='two-sided',alpha = 0.10)    \n",
    "\n",
    "    test_summary.at[i,'conf_int_lb'] = (rb*-1)/test_10k[i].mean()\n",
    "    test_summary.at[i,'conf_int_rb'] =  (lb*-1)/test_10k[i].mean()    \n",
    "\n",
    "    t_stat,test_summary.at[i,'p-value'] = scs.ttest_ind(test_10k[i], test_25k[i],equal_var = False)"
   ]
  },
  {
   "cell_type": "code",
   "execution_count": 32,
   "metadata": {},
   "outputs": [
    {
     "data": {
      "text/html": [
       "<div>\n",
       "<style scoped>\n",
       "    .dataframe tbody tr th:only-of-type {\n",
       "        vertical-align: middle;\n",
       "    }\n",
       "\n",
       "    .dataframe tbody tr th {\n",
       "        vertical-align: top;\n",
       "    }\n",
       "\n",
       "    .dataframe thead th {\n",
       "        text-align: right;\n",
       "    }\n",
       "</style>\n",
       "<table border=\"1\" class=\"dataframe\">\n",
       "  <thead>\n",
       "    <tr style=\"text-align: right;\">\n",
       "      <th></th>\n",
       "      <th>10k</th>\n",
       "      <th>25k</th>\n",
       "      <th>pct_lft</th>\n",
       "      <th>conf_int_lb</th>\n",
       "      <th>conf_int_rb</th>\n",
       "      <th>p-value</th>\n",
       "    </tr>\n",
       "  </thead>\n",
       "  <tbody>\n",
       "    <tr>\n",
       "      <th>three_trx</th>\n",
       "      <td>0.030417</td>\n",
       "      <td>0.035289</td>\n",
       "      <td>0.160146</td>\n",
       "      <td>-0.0530148</td>\n",
       "      <td>0.373307</td>\n",
       "      <td>0.216529</td>\n",
       "    </tr>\n",
       "  </tbody>\n",
       "</table>\n",
       "</div>"
      ],
      "text/plain": [
       "                10k       25k   pct_lft conf_int_lb conf_int_rb   p-value\n",
       "three_trx  0.030417  0.035289  0.160146  -0.0530148    0.373307  0.216529"
      ]
     },
     "execution_count": 32,
     "metadata": {},
     "output_type": "execute_result"
    }
   ],
   "source": [
    "test_summary"
   ]
  },
  {
   "cell_type": "markdown",
   "metadata": {},
   "source": [
    "<p1>Dapat dilihat bahwa terdapat <strong>kenaikan sebesar 16%</strong> penjualan sebanyak 3 transaksi setelah diberi voucher 25k dengan tingkat keyakinan <strong>78% bahwa ini bukan merupakan suatu kejadian random</strong>. Lalu selanjutnya dilihat perubahan penjualan 5 transaksi.</p1>"
   ]
  },
  {
   "cell_type": "code",
   "execution_count": 33,
   "metadata": {
    "scrolled": false
   },
   "outputs": [
    {
     "data": {
      "text/plain": [
       "Text(0, 0.5, 'Probabilitas')"
      ]
     },
     "execution_count": 33,
     "metadata": {},
     "output_type": "execute_result"
    },
    {
     "data": {
      "image/png": "[encoded data removed]",
      "text/plain": [
       "<Figure size 1296x432 with 1 Axes>"
      ]
     },
     "metadata": {
      "needs_background": "light"
     },
     "output_type": "display_data"
    }
   ],
   "source": [
    "fig, ax = plt.subplots(figsize=(18,6))\n",
    "x10k = np.linspace(test_summary2.loc['10k','five_trx']-49, test_summary2.loc['10k','five_trx']+50, 100)\n",
    "y10k = scs.binom(test_summary2.loc['10k','total'], test_summary2.loc['10k','rate']).pmf(x10k)\n",
    "ax.bar(x10k, y10k, alpha=0.5,color='red',label='Voucher 10k')\n",
    "x25k = np.linspace(test_summary2.loc['25k','five_trx']-49, test_summary2.loc['25k','five_trx']+50, 100)\n",
    "y25k = scs.binom(test_summary2.loc['25k','total'], test_summary2.loc['25k','rate']).pmf(x25k)\n",
    "ax.bar(x25k, y25k, alpha=0.5,color='blue',label='Voucher 25k')\n",
    "plt.legend()\n",
    "plt.title(\"Perbandingan Distribusi Voucher\\n\")\n",
    "plt.xlabel('\\n5 Transaksi')\n",
    "plt.ylabel('Probabilitas')"
   ]
  },
  {
   "cell_type": "markdown",
   "metadata": {},
   "source": [
    "<p1>Dapat dilihat dari grafik di atas bahwa pembeli yang diberi <strong>voucher 25k</strong> akan cenderung membuat <strong>pembeli yang melakukan transaksi berulang sebanyak 5, meningkat</strong>. Tapi memiliki puncak probabilitas yang lebih kecil.</p1>"
   ]
  },
  {
   "cell_type": "code",
   "execution_count": 34,
   "metadata": {},
   "outputs": [],
   "source": [
    "lima_transaksi_10k_dibeli = test_summary2.loc['10k','five_trx']\n",
    "lima_transaksi_10k_tot = test_summary2.loc['10k','total']\n",
    "lima_transaksi_10k_rate = test_summary2.loc['10k','rate']\n",
    "p_10k = lima_transaksi_10k_rate\n",
    "\n",
    "lima_transaksi_25k_dibeli = test_summary2.loc['25k','five_trx']\n",
    "lima_transaksi_25k_tot = test_summary2.loc['25k','total']\n",
    "lima_transaksi_25k_rate = test_summary2.loc['25k','rate']\n",
    "p_25k = lima_transaksi_25k_rate"
   ]
  },
  {
   "cell_type": "code",
   "execution_count": 35,
   "metadata": {},
   "outputs": [
    {
     "data": {
      "text/plain": [
       "Text(0, 0.5, 'PDF')"
      ]
     },
     "execution_count": 35,
     "metadata": {},
     "output_type": "execute_result"
    },
    {
     "data": {
      "image/png": "[encoded data removed]",
      "text/plain": [
       "<Figure size 1296x432 with 1 Axes>"
      ]
     },
     "metadata": {
      "needs_background": "light"
     },
     "output_type": "display_data"
    }
   ],
   "source": [
    "fig, ax = plt.subplots(figsize=(18,6))\n",
    "SE_10k = np.sqrt(p_10k*(1-p_10k))/np.sqrt(lima_transaksi_10k_tot)\n",
    "SE_25k = np.sqrt(p_25k*(1-p_25k))/np.sqrt(lima_transaksi_25k_tot)\n",
    "\n",
    "x = np.linspace(0, .012, 1000)\n",
    "yA = scs.norm(p_10k, SE_10k).pdf(x)\n",
    "ax.plot(x, yA, color='red',label='Voucher 10k')\n",
    "ax.axvline(x=p_10k, c='red', alpha=0.5, linestyle='--')\n",
    "yB = scs.norm(p_25k, SE_25k).pdf(x)\n",
    "ax.plot(x, yB, color='blue',label='Voucher 25k')\n",
    "ax.axvline(x=p_25k, c='blue', alpha=0.5, linestyle='--')\n",
    "\n",
    "plt.legend()\n",
    "plt.xlabel('Rate Terjadi 5 Transaksi')\n",
    "plt.ylabel('PDF')"
   ]
  },
  {
   "cell_type": "markdown",
   "metadata": {},
   "source": [
    "<p1>Dapat terlihat bahwa mean dari rate terjadinya 5 transaksi pembeli <strong>saat diberikan voucher 25k menjadi lebih besar</strong>. Dengan perbedaan mean voucher 10k dan 25k sebanyak kira-kira <strong>0.0014</strong>."
   ]
  },
  {
   "cell_type": "code",
   "execution_count": 36,
   "metadata": {},
   "outputs": [],
   "source": [
    "test_summary = data.groupby(\"coupon_value\").agg({'five_trx':'mean'})\n",
    "\n",
    "test_summary = test_summary.T\n",
    "test_stats = pd.DataFrame(columns = ['pct_lft','conf_int_lb','conf_int_rb','p-value'])    \n",
    "\n",
    "test_summary = pd.concat([test_summary,test_stats],axis=1,ignore_index=False,sort=False)\n",
    "\n",
    "test_summary['pct_lft'] = (test_summary['25k']/test_summary['10k'])-1\n",
    "\n",
    "for i in test_summary.index:\n",
    "\n",
    "    cm = sms.CompareMeans(sms.DescrStatsW(test_10k[i]), sms.DescrStatsW(test_25k[i]))\n",
    "\n",
    "    lb,rb = cm.tconfint_diff(usevar='unequal',alternative='two-sided',alpha = 0.10)    \n",
    "\n",
    "    test_summary.at[i,'conf_int_lb'] = (rb*-1)/test_10k[i].mean()\n",
    "    test_summary.at[i,'conf_int_rb'] =  (lb*-1)/test_10k[i].mean()    \n",
    "\n",
    "    t_stat,test_summary.at[i,'p-value'] = scs.ttest_ind(test_10k[i], test_25k[i],equal_var = False)"
   ]
  },
  {
   "cell_type": "code",
   "execution_count": 37,
   "metadata": {},
   "outputs": [
    {
     "data": {
      "text/html": [
       "<div>\n",
       "<style scoped>\n",
       "    .dataframe tbody tr th:only-of-type {\n",
       "        vertical-align: middle;\n",
       "    }\n",
       "\n",
       "    .dataframe tbody tr th {\n",
       "        vertical-align: top;\n",
       "    }\n",
       "\n",
       "    .dataframe thead th {\n",
       "        text-align: right;\n",
       "    }\n",
       "</style>\n",
       "<table border=\"1\" class=\"dataframe\">\n",
       "  <thead>\n",
       "    <tr style=\"text-align: right;\">\n",
       "      <th></th>\n",
       "      <th>10k</th>\n",
       "      <th>25k</th>\n",
       "      <th>pct_lft</th>\n",
       "      <th>conf_int_lb</th>\n",
       "      <th>conf_int_rb</th>\n",
       "      <th>p-value</th>\n",
       "    </tr>\n",
       "  </thead>\n",
       "  <tbody>\n",
       "    <tr>\n",
       "      <th>five_trx</th>\n",
       "      <td>0.004525</td>\n",
       "      <td>0.005961</td>\n",
       "      <td>0.317358</td>\n",
       "      <td>-0.26271</td>\n",
       "      <td>0.897426</td>\n",
       "      <td>0.368141</td>\n",
       "    </tr>\n",
       "  </tbody>\n",
       "</table>\n",
       "</div>"
      ],
      "text/plain": [
       "               10k       25k   pct_lft conf_int_lb conf_int_rb   p-value\n",
       "five_trx  0.004525  0.005961  0.317358    -0.26271    0.897426  0.368141"
      ]
     },
     "execution_count": 37,
     "metadata": {},
     "output_type": "execute_result"
    }
   ],
   "source": [
    "test_summary"
   ]
  },
  {
   "cell_type": "markdown",
   "metadata": {},
   "source": [
    "<p1>Dapat dilihat bahwa terdapat <strong>kenaikan sebesar 31%</strong> penjualan sebanyak 5 transaksi setelah diberi voucher 25k dengan tingkat keyakinan <strong>63% bahwa ini bukan merupakan suatu kejadian random</strong>.</p1>"
   ]
  },
  {
   "cell_type": "markdown",
   "metadata": {},
   "source": [
    "<center><h3><strong><font color=\"blue\">Kesimpulan</font></strong></h3></center>"
   ]
  },
  {
   "cell_type": "markdown",
   "metadata": {},
   "source": [
    "<p1>Jadi dapat diambil kesimpulan bahwa dengan memberikan voucher 25k akan membuat penjualan semakin meningkat dan membuat lebih banyak pembeli melakukan pembelian berulang. Meskipun tingkat keyakinan tidak signifikan dan terbilang besar untuk menyatakan bahwa data adalah hasil dari sebuah kejadian random, tapi masih lebih baik dibanding dengan 50:50.<strong> Worth the risk</strong>, untuk sebuah perusahaan.</p1>"
   ]
  }
 ],
 "metadata": {
  "kernelspec": {
   "display_name": "Python 3",
   "language": "python",
   "name": "python3"
  },
  "language_info": {
   "codemirror_mode": {
    "name": "ipython",
    "version": 3
   },
   "file_extension": ".py",
   "mimetype": "text/x-python",
   "name": "python",
   "nbconvert_exporter": "python",
   "pygments_lexer": "ipython3",
   "version": "3.7.3"
  }
 },
 "nbformat": 4,
 "nbformat_minor": 2
}
